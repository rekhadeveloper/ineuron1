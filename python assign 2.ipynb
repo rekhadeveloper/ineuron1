{
 "cells": [
  {
   "cell_type": "code",
   "execution_count": 1,
   "metadata": {},
   "outputs": [
    {
     "name": "stdout",
     "output_type": "stream",
     "text": [
      "    \n",
      "*   \n",
      "**  \n",
      "*** \n",
      "****\n",
      "*****\n",
      "****\n",
      "*** \n",
      "**  \n",
      "*   \n",
      "    \n"
     ]
    }
   ],
   "source": [
    "## 1. Create the below pattern using nested for loop in Python.\n",
    "\n",
    "space=\"\"\n",
    "i=0\n",
    "for i in range(6):\n",
    "    for j in range(i):\n",
    "        space=space+\"*\"\n",
    "    for k in range(4-i):\n",
    "        space=space+\" \"\n",
    "    print(space)\n",
    "    j=0\n",
    "    k=0\n",
    "    space=\"\"\n",
    "for i in range(5):\n",
    "    for j in range(4-i):\n",
    "        space=space+\"*\"\n",
    "    for k in range(i):\n",
    "        space=space+\" \"\n",
    "    print(space)\n",
    "    j=0\n",
    "    k=0\n",
    "    space=\"\"\n",
    "        "
   ]
  },
  {
   "cell_type": "code",
   "execution_count": 2,
   "metadata": {},
   "outputs": [
    {
     "name": "stdout",
     "output_type": "stream",
     "text": [
      "Enter the wordRekha\n",
      "5\n",
      "word by reversing its order is ahkeR\n"
     ]
    }
   ],
   "source": [
    "## 2. Write a Python program to reverse a word after accepting the input from the user.\n",
    "\n",
    "word=str(input(\"Enter the word\"))\n",
    "j=len(word)\n",
    "print(j)\n",
    "l=list(word)\n",
    "l\n",
    "rev=\"\"\n",
    "for k in l:\n",
    "    rev=k+rev\n",
    "print(\"word by reversing its order is\", rev)"
   ]
  },
  {
   "cell_type": "code",
   "execution_count": null,
   "metadata": {},
   "outputs": [],
   "source": []
  }
 ],
 "metadata": {
  "kernelspec": {
   "display_name": "Python 3",
   "language": "python",
   "name": "python3"
  },
  "language_info": {
   "codemirror_mode": {
    "name": "ipython",
    "version": 3
   },
   "file_extension": ".py",
   "mimetype": "text/x-python",
   "name": "python",
   "nbconvert_exporter": "python",
   "pygments_lexer": "ipython3",
   "version": "3.7.6"
  }
 },
 "nbformat": 4,
 "nbformat_minor": 4
}
